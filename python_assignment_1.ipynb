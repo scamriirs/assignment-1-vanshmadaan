{
 "cells": [
  {
   "cell_type": "markdown",
   "id": "52bc5cac-f6e3-45aa-9f9c-05ba3da5c97b",
   "metadata": {},
   "source": [
    "### Program 1 - You have a list numbers = [10, 20, 30, 40]. Write a program that checks if the first element of the list is greater than 25. Print \"First element is large\" if it is, and \"First element is small\"; if it isn't."
   ]
  },
  {
   "cell_type": "code",
   "execution_count": 2,
   "id": "5d18057c-7fd9-4e40-bb28-a4cfd4fcc66a",
   "metadata": {},
   "outputs": [
    {
     "name": "stdout",
     "output_type": "stream",
     "text": [
      "First element is small\n"
     ]
    }
   ],
   "source": [
    "l = [10, 20, 30, 40]\n",
    "if l[0] > 25:\n",
    "    print(\"First element is large\")\n",
    "else:\n",
    "    print(\"First element is small\")"
   ]
  },
  {
   "cell_type": "code",
   "execution_count": null,
   "id": "65952671-15db-4c0b-84da-7038a498ecb4",
   "metadata": {},
   "outputs": [],
   "source": []
  },
  {
   "cell_type": "markdown",
   "id": "c2f22447-0fdb-4f93-b7ea-1f95c070f844",
   "metadata": {},
   "source": [
    "### Program 2 - Given a list scores = [45, 67, 89, 92, 54, 31], write a program that creates a new list. For each score in the original list, if the score is greater than or equal to 50, add \"Pass\" to the new list. If it's less than 50, add \"Fail\"."
   ]
  },
  {
   "cell_type": "code",
   "execution_count": 3,
   "id": "7f1bb40d-d217-44e8-9403-89c784d6e9ce",
   "metadata": {},
   "outputs": [
    {
     "name": "stdout",
     "output_type": "stream",
     "text": [
      "['Fail', 'Pass', 'Pass', 'Pass', 'Pass', 'Fail']\n"
     ]
    }
   ],
   "source": [
    "scores = [45,67,89,92,54,31]\n",
    "l1 = []\n",
    "for i in range(len(scores)):\n",
    "    if scores[i] >= 50:\n",
    "        l1.append(\"Pass\")\n",
    "    else:\n",
    "        l1.append(\"Fail\")\n",
    "\n",
    "print(l1)"
   ]
  },
  {
   "cell_type": "code",
   "execution_count": null,
   "id": "ce838475-6abd-49ab-91aa-fd5c7e728526",
   "metadata": {},
   "outputs": [],
   "source": []
  },
  {
   "cell_type": "markdown",
   "id": "322f51a6-742f-4148-bb63-4a63385ddd5e",
   "metadata": {},
   "source": [
    "### Program 3 - Ask the user to input their favorite fruit. Check if that fruit is in the predefined list fruits = [\"apple\", \"banana\", \"mango\", \"grape\"]. Print a message saying whether their fruit is on the list or not."
   ]
  },
  {
   "cell_type": "code",
   "execution_count": 5,
   "id": "a71de2cc-176d-4979-bcc3-70469888018d",
   "metadata": {},
   "outputs": [
    {
     "name": "stdin",
     "output_type": "stream",
     "text": [
      "Enter your favourite fruit mango\n"
     ]
    },
    {
     "name": "stdout",
     "output_type": "stream",
     "text": [
      "Yes, the fruit is in the list\n"
     ]
    }
   ],
   "source": [
    "fruits_list = ['apple', 'banana', 'mango', 'grape']\n",
    "fruit = input(\"Enter your favourite fruit\")\n",
    "\n",
    "if fruit in fruits_list:\n",
    "    print(\"Yes, the fruit is in the list\")\n",
    "else:\n",
    "    print(\"No, the fruit is not in the list\")"
   ]
  },
  {
   "cell_type": "code",
   "execution_count": null,
   "id": "fff52031-bf55-4167-b6a9-d78d23a26166",
   "metadata": {},
   "outputs": [],
   "source": []
  },
  {
   "cell_type": "markdown",
   "id": "f8ae35a9-ebc9-449e-b9c2-9d1e843de760",
   "metadata": {},
   "source": [
    "### Pragram 4 - Given a list values = [1, -2, 3, -4, 5, 6], write a program that calculates the sum of only the positive numbers in the list. Use a loop and an if statement."
   ]
  },
  {
   "cell_type": "code",
   "execution_count": 6,
   "id": "47f7260f-1771-46cf-81cf-6c4d6f2fcebf",
   "metadata": {},
   "outputs": [
    {
     "name": "stdout",
     "output_type": "stream",
     "text": [
      "15\n"
     ]
    }
   ],
   "source": [
    "l3 = [1,-2,3,-4,5,6]\n",
    "s = 0\n",
    "\n",
    "for x in l3:\n",
    "    if x > 0:\n",
    "     s += x\n",
    "\n",
    "print(s)"
   ]
  },
  {
   "cell_type": "code",
   "execution_count": null,
   "id": "097d5230-a90c-4c3e-ab7b-da51d1330a7a",
   "metadata": {},
   "outputs": [],
   "source": []
  },
  {
   "cell_type": "markdown",
   "id": "08d66ed1-de7c-4af4-97c2-3db6917b60fb",
   "metadata": {},
   "source": [
    "### Program 5 - You have a list data = [120, 330, 40, 550, 60]. Find the largest number in the list that is less than 500. Print the number. If no number is found, print \"No valid number found\"."
   ]
  },
  {
   "cell_type": "code",
   "execution_count": 11,
   "id": "fe03b7f7-b636-4c9e-9378-fc052894ebf8",
   "metadata": {},
   "outputs": [
    {
     "name": "stdout",
     "output_type": "stream",
     "text": [
      "Maximum number in the list is  330\n"
     ]
    }
   ],
   "source": [
    "l4 = [120,330,40,550,60]\n",
    "maxi = -1\n",
    "\n",
    "for x in l4:\n",
    "    if x < 500:\n",
    "        maxi = max(maxi,x)\n",
    "\n",
    "if maxi == -1:\n",
    "    print(\"No valid number found\")\n",
    "else:\n",
    "    print(\"Maximum number in the list is \", maxi)"
   ]
  },
  {
   "cell_type": "code",
   "execution_count": null,
   "id": "0014abce-c0c7-4d5d-9917-2da4e2c6b24c",
   "metadata": {},
   "outputs": [],
   "source": []
  },
  {
   "cell_type": "markdown",
   "id": "03339880-b672-4242-a5c9-45db0c189e23",
   "metadata": {},
   "source": [
    "### Program 6 - Create a list mixed = [12, &#39;hello&#39;, 33, &#39;world&#39;, 7.5, 100]. Write a program that separates this list into two new lists: one for integers and one for strings. Ignore any other data types."
   ]
  },
  {
   "cell_type": "code",
   "execution_count": 10,
   "id": "ec6a37ac-e2c4-46d5-93dd-5e420489de43",
   "metadata": {},
   "outputs": [
    {
     "name": "stdout",
     "output_type": "stream",
     "text": [
      "List of integers  [12, 33, 100]\n",
      "List of strigs  ['hello', 'world']\n"
     ]
    }
   ],
   "source": [
    "l5 = [12,'hello',33,'world',7.5,100]\n",
    "int_list = []\n",
    "strings_list = []\n",
    "\n",
    "for i in l5:\n",
    "    if type(i) == int:\n",
    "        int_list.append(i)\n",
    "    elif type(i) == str:\n",
    "        strings_list.append(i)\n",
    "\n",
    "print(\"List of integers \", int_list)\n",
    "print(\"List of strigs \", strings_list)"
   ]
  },
  {
   "cell_type": "code",
   "execution_count": null,
   "id": "911be428-0279-4ca1-9904-a4453bc2b0e5",
   "metadata": {},
   "outputs": [],
   "source": []
  },
  {
   "cell_type": "markdown",
   "id": "cc377505-f474-4715-ab7b-bdfcff3d5214",
   "metadata": {},
   "source": [
    "### Program 7 - Given a list my_list = [10, 20, 30, 40, 50] and an index provided by the user. Check if the index is valid for the list. If it is, check if the element at that index is even. Print &quot;Valid index, even number&quot;, &quot;Valid index, odd number&quot;, or &quot;Invalid index&quot; based on the checks."
   ]
  },
  {
   "cell_type": "code",
   "execution_count": 9,
   "id": "bac2c1b5-9044-4647-bdff-a75ffbad26e2",
   "metadata": {},
   "outputs": [
    {
     "name": "stdin",
     "output_type": "stream",
     "text": [
      "Enter the index 2\n"
     ]
    },
    {
     "name": "stdout",
     "output_type": "stream",
     "text": [
      "Valid index, even number\n"
     ]
    }
   ],
   "source": [
    "l6 = [10,20,30,40,50]\n",
    "idx = int(input(\"Enter the index\"))\n",
    "\n",
    "if idx >= 0 and idx < len(l6):\n",
    "    if l6[idx] % 2 == 0:\n",
    "        print(\"Valid index, even number\")\n",
    "    else:\n",
    "        print(\"Valid index, odd number\")\n",
    "else:\n",
    "    print(\"Invalid index\")"
   ]
  },
  {
   "cell_type": "code",
   "execution_count": null,
   "id": "18b6f87b-3cf0-494d-9741-a6094ed07fc8",
   "metadata": {},
   "outputs": [],
   "source": []
  },
  {
   "cell_type": "markdown",
   "id": "30e16843-a7a5-40a8-bb8f-bab2ac6c4dfc",
   "metadata": {},
   "source": [
    "### Program 8 - You have a list temperatures = [25, 30, 105, 28, 16, -5, 99]. This list has some faulty readings (any temperature below 0 or above 100 is faulty). Create a new list that contains only the valid temperatures."
   ]
  },
  {
   "cell_type": "code",
   "execution_count": 12,
   "id": "5cd0dcd1-27fb-49d0-950f-e60ef7b246c3",
   "metadata": {},
   "outputs": [
    {
     "name": "stdout",
     "output_type": "stream",
     "text": [
      "[25, 30, 28, 16, 99]\n"
     ]
    }
   ],
   "source": [
    "temp = [25,30,105,28,16,-5,99]\n",
    "valid_temp = []\n",
    "\n",
    "for t in temp:\n",
    "    if t >= 0 and t <= 100:\n",
    "        valid_temp.append(t)\n",
    "\n",
    "print(valid_temp)"
   ]
  },
  {
   "cell_type": "code",
   "execution_count": null,
   "id": "56abd305-2e0c-424e-995a-9d0bd08aa575",
   "metadata": {},
   "outputs": [],
   "source": []
  },
  {
   "cell_type": "markdown",
   "id": "e5f50243-f8bc-48db-96e1-7bd6d69a9314",
   "metadata": {},
   "source": [
    "### Program 9 - Create a list of names: names = [&#39;Alice&#39;, &#39;Bob&#39;, &#39;Charlie&#39;, &#39;Diana&#39;]. Ask the user for a name to search for. If you find the name, print its position (index) in the list. If you don&#39;t find it, print &quot;Name not found&quot;."
   ]
  },
  {
   "cell_type": "code",
   "execution_count": 14,
   "id": "1277e3a4-01ad-4028-b98c-d23b7eb3b07c",
   "metadata": {},
   "outputs": [
    {
     "name": "stdin",
     "output_type": "stream",
     "text": [
      "Enter the name to search for Alice\n"
     ]
    },
    {
     "name": "stdout",
     "output_type": "stream",
     "text": [
      "Index of the name is  0\n"
     ]
    }
   ],
   "source": [
    "names = ['Alice', 'Bob', 'Charlie', 'Diana']\n",
    "name = input(\"Enter the name to search for\")\n",
    "found = 0\n",
    "\n",
    "for i in range(len(names)):\n",
    "    if names[i] == name:\n",
    "        print(\"Index of the name is \", i)\n",
    "        found = 1\n",
    "\n",
    "if found == 0:\n",
    "    print(\"Name not found\")"
   ]
  },
  {
   "cell_type": "code",
   "execution_count": null,
   "id": "c692a5ad-4e8a-4711-9cf1-dc18a11f91e9",
   "metadata": {},
   "outputs": [],
   "source": []
  },
  {
   "cell_type": "markdown",
   "id": "7c7f245c-2958-4643-8346-5df69c3aa7cb",
   "metadata": {},
   "source": [
    "### Program 10 - Given a list numbers = [15, 7, 22, 9, 36, 12, 18], write a program that finds and prints all numbers in the list that are both greater than 10 and divisible by 3."
   ]
  },
  {
   "cell_type": "code",
   "execution_count": 15,
   "id": "676e88d3-1616-44dd-82f2-ff4daf66ff27",
   "metadata": {},
   "outputs": [
    {
     "name": "stdout",
     "output_type": "stream",
     "text": [
      "15\n",
      "36\n",
      "12\n",
      "18\n"
     ]
    }
   ],
   "source": [
    "l7 = [15,7,22,9,36,12,18]\n",
    "\n",
    "for x in l7:\n",
    "    if x > 10 and x % 3 == 0:\n",
    "        print(x)"
   ]
  }
 ],
 "metadata": {
  "kernelspec": {
   "display_name": "Python 3 (ipykernel)",
   "language": "python",
   "name": "python3"
  },
  "language_info": {
   "codemirror_mode": {
    "name": "ipython",
    "version": 3
   },
   "file_extension": ".py",
   "mimetype": "text/x-python",
   "name": "python",
   "nbconvert_exporter": "python",
   "pygments_lexer": "ipython3",
   "version": "3.13.1"
  }
 },
 "nbformat": 4,
 "nbformat_minor": 5
}
